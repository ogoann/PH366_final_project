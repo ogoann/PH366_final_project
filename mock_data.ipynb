{
 "cells": [
  {
   "cell_type": "code",
   "execution_count": 1,
   "metadata": {
    "collapsed": true
   },
   "outputs": [],
   "source": [
    "import numpy as np\n",
    "from scipy import stats\n",
    "import matplotlib.pyplot as plt\n",
    "\n",
    "%matplotlib inline"
   ]
  },
  {
   "cell_type": "code",
   "execution_count": 22,
   "metadata": {
    "collapsed": false
   },
   "outputs": [
    {
     "data": {
      "text/plain": [
       "[<matplotlib.lines.Line2D at 0x7f9cfa08db10>]"
      ]
     },
     "execution_count": 22,
     "metadata": {},
     "output_type": "execute_result"
    },
    {
     "data": {
      "image/png": "[encoded data removed]",
      "text/plain": [
       "<matplotlib.figure.Figure at 0x7f9cfa106cd0>"
      ]
     },
     "metadata": {},
     "output_type": "display_data"
    }
   ],
   "source": [
    "def nuProfile(Ntot,radii,k=-3.):\n",
    "    nu0 = Ntot*k/((1+radii[-1])**(k+1)-1)\n",
    "    return (nu0*((1+radii[1:])**(k+1)-(1+radii[:-1])**(k+1))/k).astype(int)\n",
    "\n",
    "radii = np.linspace(1,10.,10)\n",
    "plt.xscale('log')\n",
    "plt.yscale('log')\n",
    "plt.plot(radii[1:],nuProfile(1000,radii),'b+')\n",
    "#plt.plot(np.power((1+np.linspace(0,10,10)),-3))"
   ]
  },
  {
   "cell_type": "code",
   "execution_count": 24,
   "metadata": {
    "collapsed": false
   },
   "outputs": [
    {
     "data": {
      "text/plain": [
       "[<matplotlib.lines.Line2D at 0x7f9cfa4ebdd0>]"
      ]
     },
     "execution_count": 24,
     "metadata": {},
     "output_type": "execute_result"
    },
    {
     "data": {
      "image/png": "[encoded data removed]",
      "text/plain": [
       "<matplotlib.figure.Figure at 0x7f9cf9ed0610>"
      ]
     },
     "metadata": {},
     "output_type": "display_data"
    }
   ],
   "source": [
    "def sigmaProfile(radii,sigMax=1000,k=-.2):\n",
    "    return sigMax*(0.5*(radii[1:]+radii[:-1]))**k\n",
    "\n",
    "plt.plot(0.5*(radii[1:]+radii[:-1]),sigmaProfile(radii))"
   ]
  },
  {
   "cell_type": "code",
   "execution_count": 14,
   "metadata": {
    "collapsed": true
   },
   "outputs": [],
   "source": [
    "def createMockData(radii,Ntot=1000,sigMax=1000): #total Ngals, no of shells\n",
    "    clusterData = np.zeros((Ntot,4))\n",
    "    counter=0\n",
    "    density = nuProfile(Ntot,radii,k=-3)\n",
    "    sig = sigmaProfile(radii,sigMax=1000,k=-.2)\n",
    "    \n",
    "    for shell,dens in enumerate(density):\n",
    "        #generate positions\n",
    "        phi = np.random.uniform(0.,2*np.pi,dens)\n",
    "        cosTheta = np.random.uniform(-1,1,dens)\n",
    "        theta = np.arccos(cosTheta)\n",
    "        u = np.random.uniform(radii[shell]**3,radii[shell+1]**3,dens) #cuberoot([rin,rout])\n",
    "        r = np.power(u,1./3)\n",
    "        \n",
    "        x = r*np.sin(theta)*np.cos(phi)\n",
    "        y = r*np.sin(theta)*np.sin(phi)\n",
    "        z = r*cosTheta\n",
    "        \n",
    "        #generate velocities\n",
    "        \n",
    "        speed = sig[shell]*np.random.randn(dens)\n",
    "        #phi = np.random.uniform(0.,2*np.pi,dens)\n",
    "        cosTheta = np.random.uniform(-1,1,dens)\n",
    "        #theta = np.arccos(cosTheta)\n",
    "        \n",
    "        v=speed*cosTheta   \n",
    "        \n",
    "        #replace with vstack,append\n",
    "        clusterData[counter:counter+dens,:]=np.hstack((shell.reshape((dens,1)),x.reshape((dens,1)),y.reshape((dens,1)),z.reshape((dens,1)),v.reshape((dens,1))))\n",
    "        counter += dens\n",
    "    \n",
    "    return clusterData"
   ]
  },
  {
   "cell_type": "code",
   "execution_count": 15,
   "metadata": {
    "collapsed": false
   },
   "outputs": [
    {
     "data": {
      "text/plain": [
       "[<matplotlib.lines.Line2D at 0x7f9cfa7d09d0>]"
      ]
     },
     "execution_count": 15,
     "metadata": {},
     "output_type": "execute_result"
    },
    {
     "data": {
      "image/png": "[encoded data removed]",
      "text/plain": [
       "<matplotlib.figure.Figure at 0x7f9cfcd3b7d0>"
      ]
     },
     "metadata": {},
     "output_type": "display_data"
    }
   ],
   "source": [
    "shell = createMockData(1000)\n",
    "\n",
    "plt.plot(shell[np.where(np.fabs(shell[:,2])<0.1)][:,0],shell[np.where(np.fabs(shell[:,2])<0.1)\n",
    "                                                             ][:,1],'b+')"
   ]
  },
  {
   "cell_type": "code",
   "execution_count": 11,
   "metadata": {
    "collapsed": false
   },
   "outputs": [
    {
     "data": {
      "text/plain": [
       "0.125"
      ]
     },
     "execution_count": 11,
     "metadata": {},
     "output_type": "execute_result"
    }
   ],
   "source": [
    "0.5**(3)"
   ]
  },
  {
   "cell_type": "code",
   "execution_count": null,
   "metadata": {
    "collapsed": true
   },
   "outputs": [],
   "source": []
  }
 ],
 "metadata": {
  "kernelspec": {
   "display_name": "Python 2",
   "language": "python",
   "name": "python2"
  },
  "language_info": {
   "codemirror_mode": {
    "name": "ipython",
    "version": 2
   },
   "file_extension": ".py",
   "mimetype": "text/x-python",
   "name": "python",
   "nbconvert_exporter": "python",
   "pygments_lexer": "ipython2",
   "version": "2.7.10"
  }
 },
 "nbformat": 4,
 "nbformat_minor": 0
}
