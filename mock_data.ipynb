{
 "cells": [
  {
   "cell_type": "code",
   "execution_count": 1,
   "metadata": {
    "collapsed": true
   },
   "outputs": [],
   "source": [
    "import numpy as np\n",
    "from scipy import stats\n",
    "import matplotlib.pyplot as plt\n",
    "\n",
    "%matplotlib inline"
   ]
  },
  {
   "cell_type": "code",
   "execution_count": 2,
   "metadata": {
    "collapsed": false
   },
   "outputs": [
    {
     "name": "stdout",
     "output_type": "stream",
     "text": [
      "[  0.           0.01         0.01995262   0.03981072   0.07943282\n",
      "   0.15848932   0.31622777   0.63095734   1.25892541   2.51188643\n",
      "   5.01187234  10.        ]\n",
      "994\n"
     ]
    },
    {
     "data": {
      "image/png": "[encoded data removed]",
      "text/plain": [
       "<matplotlib.figure.Figure at 0x7fe6719f7810>"
      ]
     },
     "metadata": {},
     "output_type": "display_data"
    }
   ],
   "source": [
    "def nuProfile(Ntot,radii,k=-3.):\n",
    "    nu0 = Ntot*k/((1+radii[-1])**(k+1)-1)\n",
    "    return (nu0*((1+radii[1:])**(k+1)-(1+radii[:-1])**(k+1))/k).astype(int)\n",
    "\n",
    "radii = np.append(0,np.logspace(-2,1.,11))\n",
    "print radii\n",
    "plt.xscale('log')\n",
    "plt.yscale('log')\n",
    "plt.plot(radii[1:],nuProfile(1000,radii),'b+')\n",
    "print np.sum(nuProfile(1000,radii))\n",
    "#plt.plot(np.power((1+np.linspace(0,10,10)),-3))"
   ]
  },
  {
   "cell_type": "code",
   "execution_count": 3,
   "metadata": {
    "collapsed": false
   },
   "outputs": [
    {
     "data": {
      "text/plain": [
       "[<matplotlib.lines.Line2D at 0x7fe69804ce90>]"
      ]
     },
     "execution_count": 3,
     "metadata": {},
     "output_type": "execute_result"
    },
    {
     "data": {
      "image/png": "[encoded data removed]",
      "text/plain": [
       "<matplotlib.figure.Figure at 0x7fe6719f0d90>"
      ]
     },
     "metadata": {},
     "output_type": "display_data"
    }
   ],
   "source": [
    "def sigmaProfile(radii,sigMax=1000,k=-.2):\n",
    "    return sigMax*(0.5*(radii[1:]+radii[:-1]))**k\n",
    "\n",
    "plt.plot(0.5*(radii[1:]+radii[:-1]),sigmaProfile(radii))"
   ]
  },
  {
   "cell_type": "code",
   "execution_count": 4,
   "metadata": {
    "collapsed": true
   },
   "outputs": [],
   "source": [
    "def createMockData(radii,Ntot=1000,sigMax=1000,kindex=-3,sigmaindex=-0.2): #total Ngals, no of shells\n",
    "    clusterData = np.zeros((Ntot,5))\n",
    "    counter=0\n",
    "    density = nuProfile(Ntot,radii,k=kindex)\n",
    "    sig = sigmaProfile(radii,sigMax=1000,k=sigmaindex)\n",
    "    \n",
    "    for shell,dens in enumerate(density):\n",
    "        #generate positions\n",
    "        phi = np.random.uniform(0.,2*np.pi,dens)\n",
    "        cosTheta = np.random.uniform(-1,1,dens)\n",
    "        theta = np.arccos(cosTheta)\n",
    "        u = np.random.uniform(radii[shell]**3,radii[shell+1]**3,dens) #cuberoot([rin,rout])\n",
    "        r = np.power(u,1./3)\n",
    "        \n",
    "        x = r*np.sin(theta)*np.cos(phi)\n",
    "        y = r*np.sin(theta)*np.sin(phi)\n",
    "        z = r*cosTheta\n",
    "        \n",
    "        #generate velocities\n",
    "        \n",
    "        speed = sig[shell]*np.random.randn(dens)\n",
    "        #phi = np.random.uniform(0.,2*np.pi,dens)\n",
    "        cosTheta = np.random.uniform(-1,1,dens)\n",
    "        #theta = np.arccos(cosTheta)\n",
    "        \n",
    "        v=speed*cosTheta   \n",
    "        \n",
    "        #replace with vstack,append\n",
    "        clusterData[counter:counter+dens]=np.hstack((shell*np.ones(dens).reshape((dens,1)),x.reshape((dens,1)),y.reshape((dens,1)),z.reshape((dens,1)),v.reshape((dens,1))))\n",
    "        counter += dens\n",
    "    \n",
    "    print counter\n",
    "    return clusterData[:counter],density,sig"
   ]
  },
  {
   "cell_type": "code",
   "execution_count": 5,
   "metadata": {
    "collapsed": false
   },
   "outputs": [
    {
     "name": "stdout",
     "output_type": "stream",
     "text": [
      "994\n",
      "[  0.01         0.01995262   0.03981072   0.07943282   0.15848932\n",
      "   0.31622777   0.63095734   1.25892541   2.51188643   5.01187234  10.        ]\n"
     ]
    },
    {
     "data": {
      "text/plain": [
       "<matplotlib.collections.PathCollection at 0x7fe66f6e6b50>"
      ]
     },
     "execution_count": 5,
     "metadata": {},
     "output_type": "execute_result"
    },
    {
     "data": {
      "image/png": "[encoded data removed]",
      "text/plain": [
       "<matplotlib.figure.Figure at 0x7fe66f853750>"
      ]
     },
     "metadata": {},
     "output_type": "display_data"
    }
   ],
   "source": [
    "cluster,density,sigma = createMockData(np.append(0,np.logspace(-2,1,11)))\n",
    "\n",
    "print np.logspace(-2,1,11)\n",
    "\n",
    "plt.scatter(cluster[:,1],cluster[:,2],s=np.fabs(cluster[:4])/5)"
   ]
  },
  {
   "cell_type": "code",
   "execution_count": 6,
   "metadata": {
    "collapsed": false
   },
   "outputs": [
    {
     "data": {
      "text/html": [
       "<div>\n",
       "<table border=\"1\" class=\"dataframe\">\n",
       "  <thead>\n",
       "    <tr style=\"text-align: right;\">\n",
       "      <th></th>\n",
       "      <th>0</th>\n",
       "      <th>1</th>\n",
       "      <th>2</th>\n",
       "      <th>3</th>\n",
       "      <th>4</th>\n",
       "    </tr>\n",
       "  </thead>\n",
       "  <tbody>\n",
       "    <tr>\n",
       "      <th>count</th>\n",
       "      <td>994.000000</td>\n",
       "      <td>994.000000</td>\n",
       "      <td>994.000000</td>\n",
       "      <td>994.000000</td>\n",
       "      <td>994.000000</td>\n",
       "    </tr>\n",
       "    <tr>\n",
       "      <th>mean</th>\n",
       "      <td>5.693159</td>\n",
       "      <td>-0.025881</td>\n",
       "      <td>-0.024694</td>\n",
       "      <td>-0.038884</td>\n",
       "      <td>52.580055</td>\n",
       "    </tr>\n",
       "    <tr>\n",
       "      <th>std</th>\n",
       "      <td>2.078862</td>\n",
       "      <td>0.979960</td>\n",
       "      <td>0.956779</td>\n",
       "      <td>1.003943</td>\n",
       "      <td>741.213093</td>\n",
       "    </tr>\n",
       "    <tr>\n",
       "      <th>min</th>\n",
       "      <td>0.000000</td>\n",
       "      <td>-5.908787</td>\n",
       "      <td>-4.680436</td>\n",
       "      <td>-7.796008</td>\n",
       "      <td>-3133.809266</td>\n",
       "    </tr>\n",
       "    <tr>\n",
       "      <th>25%</th>\n",
       "      <td>4.000000</td>\n",
       "      <td>-0.211761</td>\n",
       "      <td>-0.218818</td>\n",
       "      <td>-0.170836</td>\n",
       "      <td>-273.311379</td>\n",
       "    </tr>\n",
       "    <tr>\n",
       "      <th>50%</th>\n",
       "      <td>6.000000</td>\n",
       "      <td>-0.003869</td>\n",
       "      <td>-0.004193</td>\n",
       "      <td>-0.000696</td>\n",
       "      <td>14.626836</td>\n",
       "    </tr>\n",
       "    <tr>\n",
       "      <th>75%</th>\n",
       "      <td>7.000000</td>\n",
       "      <td>0.144071</td>\n",
       "      <td>0.165231</td>\n",
       "      <td>0.156901</td>\n",
       "      <td>348.657303</td>\n",
       "    </tr>\n",
       "    <tr>\n",
       "      <th>max</th>\n",
       "      <td>10.000000</td>\n",
       "      <td>7.653392</td>\n",
       "      <td>8.014847</td>\n",
       "      <td>8.520169</td>\n",
       "      <td>4572.619881</td>\n",
       "    </tr>\n",
       "  </tbody>\n",
       "</table>\n",
       "</div>"
      ],
      "text/plain": [
       "                0           1           2           3            4\n",
       "count  994.000000  994.000000  994.000000  994.000000   994.000000\n",
       "mean     5.693159   -0.025881   -0.024694   -0.038884    52.580055\n",
       "std      2.078862    0.979960    0.956779    1.003943   741.213093\n",
       "min      0.000000   -5.908787   -4.680436   -7.796008 -3133.809266\n",
       "25%      4.000000   -0.211761   -0.218818   -0.170836  -273.311379\n",
       "50%      6.000000   -0.003869   -0.004193   -0.000696    14.626836\n",
       "75%      7.000000    0.144071    0.165231    0.156901   348.657303\n",
       "max     10.000000    7.653392    8.014847    8.520169  4572.619881"
      ]
     },
     "execution_count": 6,
     "metadata": {},
     "output_type": "execute_result"
    }
   ],
   "source": [
    "import pandas as pd\n",
    "\n",
    "clusterPd = pd.DataFrame(cluster)\n",
    "\n",
    "clusterPd.describe()"
   ]
  },
  {
   "cell_type": "code",
   "execution_count": 7,
   "metadata": {
    "collapsed": false
   },
   "outputs": [],
   "source": [
    "clusterPd.to_csv('mock_cluster.csv')"
   ]
  },
  {
   "cell_type": "code",
   "execution_count": null,
   "metadata": {
    "collapsed": true
   },
   "outputs": [],
   "source": []
  }
 ],
 "metadata": {
  "kernelspec": {
   "display_name": "Python 2",
   "language": "python",
   "name": "python2"
  },
  "language_info": {
   "codemirror_mode": {
    "name": "ipython",
    "version": 2
   },
   "file_extension": ".py",
   "mimetype": "text/x-python",
   "name": "python",
   "nbconvert_exporter": "python",
   "pygments_lexer": "ipython2",
   "version": "2.7.10"
  }
 },
 "nbformat": 4,
 "nbformat_minor": 0
}
