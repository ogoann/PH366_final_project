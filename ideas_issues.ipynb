{
 "cells": [
  {
   "cell_type": "markdown",
   "metadata": {},
   "source": [
    "### Can mass give us both the velocity dispersion profile and the galaxy number density?\n",
    "\n",
    "The posterior on the board: $P\\left(\\sigma_r|\\tilde{\\sigma_r}\\right)\\times P\\left(\\tilde{\\sigma_r}|M,\\dots,H\\right)$, where the letters with tilde above them are the parameters, i.e. knowing  the mass -- as a function of radius (and whatever other assumptions are hiding in $H$), we can calculate the velocity dispersion and draw from it. \n",
    "\n",
    "* We also need the density distribution, i.e. $P\\left(\\sigma_r,\\nu_r|\\tilde{\\sigma_r},\\tilde{\\nu_r}\\right)\\times P\\left(\\tilde{\\sigma_r},\\tilde{\\nu_r}|M,\\dots,H\\right)$. How to accomplish that?\n",
    "* one of the papers (the one where Sect.4 was the important one) talks about degeneracies when we are trying to use only the velocities to do this. I'm not sure whether they mean that this cannot be done (without calculating the moments of velocity they talk about) or when we know the density, we are good."
   ]
  },
  {
   "cell_type": "markdown",
   "metadata": {},
   "source": [
    "### Finding the covariance matrix (for the velocities, but potentially also densities)\n",
    "\n",
    "What exactly did Phil mean by finding the covariance matrix. I assume, talking about $\\sigma_r$, that if we assume some gaussian distribution of the velocities in each shell that possibly influence each other, the distribution we'd be drawing from would be\n",
    "\n",
    "$P\\left(\\sigma_r|\\tilde{\\sigma_r}\\right)\\propto\\exp\\left[-\\frac1{2}\\left(\\sigma_r-\\tilde{\\sigma_r}\\right)^{\\rm T}\\Sigma^{-1}\\left(\\sigma_r-\\tilde{\\sigma_r}\\right)\\right]$\n",
    "\n",
    "with $\\Sigma$ being the covariance matrix and the other variables being vectors. How do we find $\\Sigma$?"
   ]
  },
  {
   "cell_type": "markdown",
   "metadata": {},
   "source": [
    "### The correct distribution for the positions of the galaxies\n",
    "\n",
    "How to best draw from $\\tilde{\\nu}$? There is the uniform distribution, but one also often talks about galaxies being essentially Poisson distributed - should we rather imply some (3D) grid and populate it with galaxies according to the appropriate Poisson model?"
   ]
  },
  {
   "cell_type": "markdown",
   "metadata": {},
   "source": [
    "## Open ideas (presumably for after the class, should that ever happen)\n",
    "\n",
    "* (Phil's) Do we need to bin the data into shells? How could this be done with individual galaxies?"
   ]
  }
 ],
 "metadata": {
  "kernelspec": {
   "display_name": "Python 2",
   "language": "python",
   "name": "python2"
  },
  "language_info": {
   "codemirror_mode": {
    "name": "ipython",
    "version": 2
   },
   "file_extension": ".py",
   "mimetype": "text/x-python",
   "name": "python",
   "nbconvert_exporter": "python",
   "pygments_lexer": "ipython2",
   "version": "2.7.10"
  }
 },
 "nbformat": 4,
 "nbformat_minor": 0
}
